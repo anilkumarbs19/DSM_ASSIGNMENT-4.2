{
 "cells": [
  {
   "cell_type": "code",
   "execution_count": 4,
   "metadata": {},
   "outputs": [
    {
     "name": "stdout",
     "output_type": "stream",
     "text": [
      "list of words: ['abv', 'cde', 'erty']\n",
      "length of each item in the list of words: [3, 3, 4]\n",
      "\n",
      "\n"
     ]
    }
   ],
   "source": [
    "def Map_length_listitems(listofwords):\n",
    "   \n",
    "    \n",
    "    listoflength = [len(str(eachword)) for eachword in listofwords]\n",
    "    \n",
    "    return listoflength\n",
    "\n",
    "\n",
    "words = ['abv', 'cde', 'erty']\n",
    "\n",
    "\n",
    "print(\"list of words:\",words)\n",
    "print(\"length of each item in the list of words:\",Map_length_listitems(words))\n",
    "print(\"\\n\")"
   ]
  },
  {
   "cell_type": "code",
   "execution_count": 5,
   "metadata": {},
   "outputs": [
    {
     "name": "stdout",
     "output_type": "stream",
     "text": [
      "Is \"A\" a vowel? True\n",
      "Is \"e\" a vowel? True\n",
      "Is \"Z\" a vowel? False\n",
      "Is \"AEIOU\" a vowel? False\n",
      "Is 1 a vowel? False\n"
     ]
    }
   ],
   "source": [
    "def isvowel(inputchar=None):\n",
    "    \n",
    "    inputchar_tostring = str(inputchar)\n",
    "    \n",
    "    ## Accept only single characters else return false\n",
    "    if (len(inputchar_tostring) == 1): \n",
    "        return inputchar_tostring.lower() in 'aeiou'\n",
    "    else:\n",
    "        return False\n",
    "\n",
    "\n",
    "\n",
    "print('Is \"A\" a vowel?',isvowel('A'))\n",
    "print('Is \"e\" a vowel?',isvowel('e'))\n",
    "print('Is \"Z\" a vowel?',isvowel('Z'))\n",
    "print('Is \"AEIOU\" a vowel?',isvowel('AEIOU'))\n",
    "print('Is 1 a vowel?',isvowel(1))"
   ]
  },
  {
   "cell_type": "code",
   "execution_count": null,
   "metadata": {
    "collapsed": true
   },
   "outputs": [],
   "source": []
  }
 ],
 "metadata": {
  "kernelspec": {
   "display_name": "Python 3",
   "language": "python",
   "name": "python3"
  },
  "language_info": {
   "codemirror_mode": {
    "name": "ipython",
    "version": 3
   },
   "file_extension": ".py",
   "mimetype": "text/x-python",
   "name": "python",
   "nbconvert_exporter": "python",
   "pygments_lexer": "ipython3",
   "version": "3.6.3"
  }
 },
 "nbformat": 4,
 "nbformat_minor": 2
}
